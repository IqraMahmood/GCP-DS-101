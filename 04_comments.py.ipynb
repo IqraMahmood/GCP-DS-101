{
 "cells": [
  {
   "cell_type": "markdown",
   "id": "a8adc6cf-dd90-4f9d-bd95-01d6471cc068",
   "metadata": {},
   "source": [
    "# comment"
   ]
  },
  {
   "cell_type": "markdown",
   "id": "1362e872-6e75-4fea-b865-e7ed5ee78ff0",
   "metadata": {},
   "source": [
    "## Press \" Ctrl + / \" to comment out the code"
   ]
  },
  {
   "cell_type": "code",
   "execution_count": 1,
   "id": "4835a6f5-ada4-44c1-b02f-bb47395adebe",
   "metadata": {},
   "outputs": [],
   "source": [
    "# print(\"How are you\")"
   ]
  },
  {
   "cell_type": "code",
   "execution_count": 2,
   "id": "c7a2e865-73f8-4e2f-8e7e-99d0f8543fe2",
   "metadata": {},
   "outputs": [
    {
     "name": "stdout",
     "output_type": "stream",
     "text": [
      "We are learning python with ammar\n"
     ]
    }
   ],
   "source": [
    "print(\"We are learning python with ammar\")"
   ]
  },
  {
   "cell_type": "code",
   "execution_count": null,
   "id": "07e44c1e-9c38-414a-8d72-46ce24cb33f1",
   "metadata": {},
   "outputs": [],
   "source": [
    "print(2+ 3 ) # function operator"
   ]
  }
 ],
 "metadata": {
  "environment": {
   "kernel": "python3",
   "name": "common-cpu.m94",
   "type": "gcloud",
   "uri": "gcr.io/deeplearning-platform-release/base-cpu:m94"
  },
  "kernelspec": {
   "display_name": "Python 3",
   "language": "python",
   "name": "python3"
  },
  "language_info": {
   "codemirror_mode": {
    "name": "ipython",
    "version": 3
   },
   "file_extension": ".py",
   "mimetype": "text/x-python",
   "name": "python",
   "nbconvert_exporter": "python",
   "pygments_lexer": "ipython3",
   "version": "3.7.12"
  }
 },
 "nbformat": 4,
 "nbformat_minor": 5
}
