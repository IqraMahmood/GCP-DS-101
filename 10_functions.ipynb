{
 "cells": [
  {
   "cell_type": "code",
   "execution_count": null,
   "id": "15191012-ae10-4172-911d-4d25d2b6d30d",
   "metadata": {},
   "outputs": [],
   "source": []
  },
  {
   "cell_type": "code",
   "execution_count": 1,
   "id": "bff0a46c-870c-4df3-8a08-1faca62113bf",
   "metadata": {},
   "outputs": [
    {
     "name": "stdout",
     "output_type": "stream",
     "text": [
      "We are learning python\n",
      "We are learning python\n",
      "We are learning python\n",
      "We are learning python\n",
      "We are learning python\n",
      "We are learning python\n",
      "We are learning python\n"
     ]
    }
   ],
   "source": [
    "# Print is a function\n",
    "print(\"We are learning python\")\n",
    "print(\"We are learning python\")\n",
    "print(\"We are learning python\")\n",
    "print(\"We are learning python\")\n",
    "print(\"We are learning python\")\n",
    "print(\"We are learning python\")\n",
    "print(\"We are learning python\")\n",
    "\n",
    "\n",
    "    \n",
    "\n",
    "\n",
    "      "
   ]
  },
  {
   "cell_type": "code",
   "execution_count": 2,
   "id": "cc206b05-bdde-467c-b9bb-df5da59b9e6c",
   "metadata": {},
   "outputs": [
    {
     "name": "stdout",
     "output_type": "stream",
     "text": [
      "We are learning python\n",
      "We are learning python\n",
      "We are learning python\n"
     ]
    }
   ],
   "source": [
    "# No.1 way of defining function\n",
    "def print_codanics():\n",
    "    print(\"We are learning python\")\n",
    "    print(\"We are learning python\")\n",
    "    print(\"We are learning python\")\n",
    "    \n",
    "    \n",
    "print_codanics()\n"
   ]
  },
  {
   "cell_type": "code",
   "execution_count": 3,
   "id": "c3841a38-18f9-4030-b747-2f1a36e9ef06",
   "metadata": {},
   "outputs": [],
   "source": [
    "# No.2 way of defining function\n"
   ]
  },
  {
   "cell_type": "code",
   "execution_count": 4,
   "id": "ecf24234-b25e-4f5e-862b-ae3160e78274",
   "metadata": {},
   "outputs": [],
   "source": [
    "def print_codanics():\n",
    "    text = \"We are learning python\" \n",
    "    print(text)\n",
    "    print(text)\n",
    "    print(text)\n",
    "    \n",
    "print_codanics()\n"
   ]
  },
  {
   "cell_type": "code",
   "execution_count": 6,
   "id": "ef126652-4e85-44d6-8ae1-a4e57a2ac141",
   "metadata": {},
   "outputs": [
    {
     "name": "stdout",
     "output_type": "stream",
     "text": [
      "We are learning python\n",
      "We are learning python\n",
      "We are learning python\n"
     ]
    }
   ],
   "source": [
    "text = \"We are learning python\" \n",
    "\n",
    "def print_codanics(text):\n",
    "    print(text)\n",
    "    print(text)\n",
    "    print(text)\n",
    "    \n",
    "print_codanics(text)\n"
   ]
  },
  {
   "cell_type": "code",
   "execution_count": null,
   "id": "f375cee1-1787-4162-9920-5873be71a69f",
   "metadata": {},
   "outputs": [],
   "source": []
  },
  {
   "cell_type": "code",
   "execution_count": 12,
   "id": "b9bf6dd2-0f2a-41e9-8623-9052461c9cb6",
   "metadata": {},
   "outputs": [
    {
     "ename": "SyntaxError",
     "evalue": "EOL while scanning string literal (915622171.py, line 14)",
     "output_type": "error",
     "traceback": [
      "\u001b[0;36m  File \u001b[0;32m\"/tmp/ipykernel_3309/915622171.py\"\u001b[0;36m, line \u001b[0;32m14\u001b[0m\n\u001b[0;31m    school_clculator(age, \"Hammad)\u001b[0m\n\u001b[0m                                  ^\u001b[0m\n\u001b[0;31mSyntaxError\u001b[0m\u001b[0;31m:\u001b[0m EOL while scanning string literal\n"
     ]
    }
   ],
   "source": [
    "# Definin a function with if else\n",
    "hammad_age = 2\n",
    "req_age_at_school = 5\n",
    "def school_clculator(age, text):\n",
    "    if (age == 5):\n",
    "        print(\"Congratulations! Hammad can join the school\")\n",
    "    elif(age > 5):\n",
    "        print(\"Hammad should join hiher secondary school\")\n",
    "    elif(hammad_age <= 2):\n",
    "        print(\"You should take care of hammed he is still a baby\")\n",
    "    else:\n",
    "        print(\"Hammad can not go to school \")\n",
    "        \n",
    "school_clculator(age, \"Hammad)"
   ]
  },
  {
   "cell_type": "code",
   "execution_count": 14,
   "id": "aae305b8-7827-4848-b6ad-f83a739d21b1",
   "metadata": {},
   "outputs": [
    {
     "data": {
      "text/plain": [
       "31"
      ]
     },
     "execution_count": 14,
     "metadata": {},
     "output_type": "execute_result"
    }
   ],
   "source": [
    "# Definin a function of future\n",
    "def future_age(age):\n",
    "    new_age = age + 20\n",
    "    return new_age\n",
    "future_age(11)\n"
   ]
  },
  {
   "cell_type": "code",
   "execution_count": null,
   "id": "83129efc-8d2b-4764-81e7-b8e142f8efc3",
   "metadata": {},
   "outputs": [],
   "source": []
  }
 ],
 "metadata": {
  "environment": {
   "kernel": "python3",
   "name": "common-cpu.m94",
   "type": "gcloud",
   "uri": "gcr.io/deeplearning-platform-release/base-cpu:m94"
  },
  "kernelspec": {
   "display_name": "Python 3",
   "language": "python",
   "name": "python3"
  },
  "language_info": {
   "codemirror_mode": {
    "name": "ipython",
    "version": 3
   },
   "file_extension": ".py",
   "mimetype": "text/x-python",
   "name": "python",
   "nbconvert_exporter": "python",
   "pygments_lexer": "ipython3",
   "version": "3.7.12"
  }
 },
 "nbformat": 4,
 "nbformat_minor": 5
}
