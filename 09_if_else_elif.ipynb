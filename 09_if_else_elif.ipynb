{
 "cells": [
  {
   "cell_type": "code",
   "execution_count": null,
   "id": "1835584c-c9b9-49c8-aacf-f3e2da923584",
   "metadata": {},
   "outputs": [],
   "source": []
  },
  {
   "cell_type": "code",
   "execution_count": 7,
   "id": "e7e4aa45-3aef-4697-92f0-9dc59879b2a0",
   "metadata": {},
   "outputs": [
    {
     "name": "stdout",
     "output_type": "stream",
     "text": [
      "You should take care of hammed he is still a baby\n"
     ]
    }
   ],
   "source": [
    "hammad_age = 2\n",
    "req_age_at_school = 5\n",
    "\n",
    "# Question: can hammad go to school\n",
    "if (hammad_age == req_age_at_school):\n",
    "    print(\"Congratulations! Hammad can join the school\")\n",
    "elif(hammad_age > req_age_at_school):\n",
    "    print(\"Hammad should join hiher secondary school\")\n",
    "elif(hammad_age <= 2):\n",
    "    print(\"You should take care of hammed he is still a baby\")\n",
    "else:\n",
    "    print(\"Hammad can not go to school \")"
   ]
  },
  {
   "cell_type": "code",
   "execution_count": null,
   "id": "a30a2117-45be-4e7f-9646-9e744afb0da9",
   "metadata": {},
   "outputs": [],
   "source": []
  }
 ],
 "metadata": {
  "environment": {
   "kernel": "python3",
   "name": "common-cpu.m94",
   "type": "gcloud",
   "uri": "gcr.io/deeplearning-platform-release/base-cpu:m94"
  },
  "kernelspec": {
   "display_name": "Python 3",
   "language": "python",
   "name": "python3"
  },
  "language_info": {
   "codemirror_mode": {
    "name": "ipython",
    "version": 3
   },
   "file_extension": ".py",
   "mimetype": "text/x-python",
   "name": "python",
   "nbconvert_exporter": "python",
   "pygments_lexer": "ipython3",
   "version": "3.7.12"
  }
 },
 "nbformat": 4,
 "nbformat_minor": 5
}
