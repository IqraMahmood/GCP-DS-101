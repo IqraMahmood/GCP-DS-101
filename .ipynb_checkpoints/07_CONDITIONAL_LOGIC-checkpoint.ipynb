{
 "cells": [
  {
   "cell_type": "code",
   "execution_count": null,
   "id": "069604bc-c2c5-4538-bb9d-7326941f0ab8",
   "metadata": {},
   "outputs": [],
   "source": []
  },
  {
   "cell_type": "markdown",
   "id": "a1c25931-a6a0-489a-b6f8-30a7cec97182",
   "metadata": {},
   "source": [
    "# Equal to    ==\n",
    "# Not equal to   !=\n",
    "# Less than <\n",
    "# Greater than   >\n",
    "# Greater tha equal no  >=\n",
    "# Less tha equal no  <="
   ]
  },
  {
   "cell_type": "code",
   "execution_count": null,
   "id": "6adb1a83-bf0d-42f7-82e7-2e916fc953f5",
   "metadata": {},
   "outputs": [],
   "source": []
  },
  {
   "cell_type": "code",
   "execution_count": 3,
   "id": "089806f7-a707-4672-b48e-cb83afe6d8f0",
   "metadata": {},
   "outputs": [
    {
     "name": "stdout",
     "output_type": "stream",
     "text": [
      "True\n",
      "False\n",
      "True\n",
      "True\n"
     ]
    }
   ],
   "source": [
    "print(4==4) # Is 4 equal to 4- True\n",
    "\n",
    "print(4!=4) #  Is 4 equal to 4- False\n",
    "print(3<6)\n",
    "# Greater tha equal no  >=\n",
    "print(3<=5)\n",
    "\n",
    "\n"
   ]
  },
  {
   "cell_type": "code",
   "execution_count": 4,
   "id": "eda5666e-0672-4f6f-a511-e044b4e85833",
   "metadata": {},
   "outputs": [
    {
     "name": "stdout",
     "output_type": "stream",
     "text": [
      "False\n"
     ]
    }
   ],
   "source": [
    "# Application of logic operator\n",
    "hammad_age = 4\n",
    "age_at_school = 5\n",
    "\n",
    "\n",
    "print(hammad_age == age_at_school)"
   ]
  },
  {
   "cell_type": "code",
   "execution_count": 7,
   "id": "a9e51185-a54a-4a2f-a37a-af6ee499a04c",
   "metadata": {},
   "outputs": [
    {
     "name": "stdin",
     "output_type": "stream",
     "text": [
      "How old is hammad ? 5\n"
     ]
    },
    {
     "name": "stdout",
     "output_type": "stream",
     "text": [
      "True\n"
     ]
    }
   ],
   "source": [
    "hammad_age = int(input(\"How old is hammad ?\")) # Input function\n",
    "age_at_school = 5\n",
    "print(hammad_age == age_at_school) # Logical operator"
   ]
  },
  {
   "cell_type": "code",
   "execution_count": null,
   "id": "9bf0289d-0a66-44e9-8423-d2514cb98dfc",
   "metadata": {},
   "outputs": [],
   "source": []
  }
 ],
 "metadata": {
  "environment": {
   "kernel": "python3",
   "name": "common-cpu.m94",
   "type": "gcloud",
   "uri": "gcr.io/deeplearning-platform-release/base-cpu:m94"
  },
  "kernelspec": {
   "display_name": "Python 3",
   "language": "python",
   "name": "python3"
  },
  "language_info": {
   "codemirror_mode": {
    "name": "ipython",
    "version": 3
   },
   "file_extension": ".py",
   "mimetype": "text/x-python",
   "name": "python",
   "nbconvert_exporter": "python",
   "pygments_lexer": "ipython3",
   "version": "3.7.12"
  }
 },
 "nbformat": 4,
 "nbformat_minor": 5
}
