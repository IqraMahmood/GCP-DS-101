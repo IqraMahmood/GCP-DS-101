{
 "cells": [
  {
   "cell_type": "code",
   "execution_count": null,
   "id": "1a9ba973-6c68-4ff3-b57e-f171d6310312",
   "metadata": {},
   "outputs": [],
   "source": []
  },
  {
   "cell_type": "code",
   "execution_count": null,
   "id": "b5a1d141-c904-469d-8526-f1d1a63c4e80",
   "metadata": {},
   "outputs": [],
   "source": []
  },
  {
   "cell_type": "code",
   "execution_count": 2,
   "id": "2fb9b6c5-4545-4bee-bf17-8b0c64ba0448",
   "metadata": {},
   "outputs": [
    {
     "name": "stdout",
     "output_type": "stream",
     "text": [
      "<class 'int'>\n",
      "<class 'float'>\n",
      "<class 'str'>\n"
     ]
    }
   ],
   "source": [
    "x = 5\n",
    "y =10.2\n",
    "\n",
    "z = \"Hello\"\n",
    "\n",
    "print(type(x))\n",
    "print(type(y))\n",
    "print(type(z))\n",
    "\n",
    "\n"
   ]
  },
  {
   "cell_type": "markdown",
   "id": "49f75e9c-ca1f-44e0-8390-0a6e98f835ed",
   "metadata": {},
   "source": [
    "# Implicit type conversion"
   ]
  },
  {
   "cell_type": "code",
   "execution_count": 5,
   "id": "7ea3d7cf-6a12-4d26-99a4-ebdc910078e3",
   "metadata": {},
   "outputs": [
    {
     "name": "stdout",
     "output_type": "stream",
     "text": [
      "<class 'float'>\n",
      "Type of y is <class 'float'>\n"
     ]
    }
   ],
   "source": [
    "\n",
    "x = x* y\n",
    "print(type(x))\n",
    "# int * float = float \n",
    "# int + float = float\n",
    "print(\"Type of y is\", type(y))"
   ]
  },
  {
   "cell_type": "markdown",
   "id": "5d37d346-530d-4006-b759-64d1568d39d4",
   "metadata": {},
   "source": [
    "# Explicit type conversion"
   ]
  },
  {
   "cell_type": "code",
   "execution_count": 6,
   "id": "80abb8cc-a4ac-4ea4-bd03-2da2ef9a1641",
   "metadata": {},
   "outputs": [
    {
     "name": "stdin",
     "output_type": "stream",
     "text": [
      "What is your age 21\n"
     ]
    },
    {
     "name": "stdout",
     "output_type": "stream",
     "text": [
      "21\n",
      "<class 'int'>\n"
     ]
    }
   ],
   "source": [
    "\n",
    "age = int(input(\"What is your age\"))\n",
    "print(age)\n",
    "print(type(age))\n"
   ]
  },
  {
   "cell_type": "code",
   "execution_count": null,
   "id": "ab32ef03-c712-46c1-acf2-49a312e7b3a9",
   "metadata": {},
   "outputs": [],
   "source": []
  }
 ],
 "metadata": {
  "environment": {
   "kernel": "python3",
   "name": "common-cpu.m94",
   "type": "gcloud",
   "uri": "gcr.io/deeplearning-platform-release/base-cpu:m94"
  },
  "kernelspec": {
   "display_name": "Python 3",
   "language": "python",
   "name": "python3"
  },
  "language_info": {
   "codemirror_mode": {
    "name": "ipython",
    "version": 3
   },
   "file_extension": ".py",
   "mimetype": "text/x-python",
   "name": "python",
   "nbconvert_exporter": "python",
   "pygments_lexer": "ipython3",
   "version": "3.7.12"
  }
 },
 "nbformat": 4,
 "nbformat_minor": 5
}
