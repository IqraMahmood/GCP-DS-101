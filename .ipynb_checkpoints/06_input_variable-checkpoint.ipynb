{
 "cells": [
  {
   "cell_type": "code",
   "execution_count": 1,
   "id": "4a2165ac-8ec2-4386-bd77-f46a2620ae47",
   "metadata": {},
   "outputs": [],
   "source": [
    "# Input "
   ]
  },
  {
   "cell_type": "code",
   "execution_count": null,
   "id": "688c402b-732c-4252-9ab4-c8279a957531",
   "metadata": {},
   "outputs": [],
   "source": []
  },
  {
   "cell_type": "code",
   "execution_count": 2,
   "id": "e7fd1ef9-98af-4a54-a834-6d01dcec3d39",
   "metadata": {},
   "outputs": [],
   "source": [
    "fruit_basket = \"Mangoes\" "
   ]
  },
  {
   "cell_type": "code",
   "execution_count": 3,
   "id": "9bc1a046-3e66-49bf-b761-26267afa573a",
   "metadata": {},
   "outputs": [
    {
     "name": "stdout",
     "output_type": "stream",
     "text": [
      "Mangoes\n"
     ]
    }
   ],
   "source": [
    "print(fruit_basket)"
   ]
  },
  {
   "cell_type": "code",
   "execution_count": 7,
   "id": "e7535e45-4321-4f6b-bf42-07edf5e1db40",
   "metadata": {},
   "outputs": [
    {
     "name": "stdin",
     "output_type": "stream",
     "text": [
      "Which is your favourite fruit ?  Apple\n"
     ]
    },
    {
     "name": "stdout",
     "output_type": "stream",
     "text": [
      "Apple\n"
     ]
    }
   ],
   "source": [
    "fruit_basket = input(\"Which is your favourite fruit ? \")\n",
    "print(fruit_basket)"
   ]
  },
  {
   "cell_type": "code",
   "execution_count": 8,
   "id": "e6425968-1591-4aea-8d64-993182d58c63",
   "metadata": {},
   "outputs": [],
   "source": [
    "# name function of second stage"
   ]
  },
  {
   "cell_type": "code",
   "execution_count": 9,
   "id": "b01f926a-57c9-4a73-a85d-a2a6629dad50",
   "metadata": {},
   "outputs": [
    {
     "name": "stdin",
     "output_type": "stream",
     "text": [
      "What is your name Iqra\n"
     ]
    },
    {
     "name": "stdout",
     "output_type": "stream",
     "text": [
      "Hello Iqra\n"
     ]
    }
   ],
   "source": [
    "name = input(\"What is your name\")\n",
    "greetings= \"Hello\" \n",
    "print(greetings, name)"
   ]
  },
  {
   "cell_type": "code",
   "execution_count": 10,
   "id": "15932d58-696b-40b1-bef4-a596aa875cbc",
   "metadata": {},
   "outputs": [
    {
     "name": "stdin",
     "output_type": "stream",
     "text": [
      "What is your name qra\n"
     ]
    },
    {
     "name": "stdout",
     "output_type": "stream",
     "text": [
      "Hello  qra\n"
     ]
    }
   ],
   "source": [
    "# Another way of  function of second stage\n",
    "name = input(\"What is your name\")\n",
    "print(\"Hello \" , name)"
   ]
  },
  {
   "cell_type": "code",
   "execution_count": 14,
   "id": "977b0e66-228c-4f44-bb2b-93bd0bcc4354",
   "metadata": {},
   "outputs": [
    {
     "name": "stdin",
     "output_type": "stream",
     "text": [
      "What is your name Iqra\n",
      "How old are you? 21\n"
     ]
    },
    {
     "name": "stdout",
     "output_type": "stream",
     "text": [
      "Hello Iqra , You are still young\n"
     ]
    }
   ],
   "source": [
    "\n",
    "# 3rd syage input function \n",
    "name = input(\"What is your name\")\n",
    "age = input(\"How old are you?\")\n",
    "greetings= \"Hello\" \n",
    "print(greetings, name, \", You are still young\")"
   ]
  },
  {
   "cell_type": "code",
   "execution_count": null,
   "id": "b9145942-4bde-4f69-bd5d-37cdb55f271e",
   "metadata": {},
   "outputs": [],
   "source": []
  }
 ],
 "metadata": {
  "environment": {
   "kernel": "python3",
   "name": "common-cpu.m94",
   "type": "gcloud",
   "uri": "gcr.io/deeplearning-platform-release/base-cpu:m94"
  },
  "kernelspec": {
   "display_name": "Python 3",
   "language": "python",
   "name": "python3"
  },
  "language_info": {
   "codemirror_mode": {
    "name": "ipython",
    "version": 3
   },
   "file_extension": ".py",
   "mimetype": "text/x-python",
   "name": "python",
   "nbconvert_exporter": "python",
   "pygments_lexer": "ipython3",
   "version": "3.7.12"
  }
 },
 "nbformat": 4,
 "nbformat_minor": 5
}
