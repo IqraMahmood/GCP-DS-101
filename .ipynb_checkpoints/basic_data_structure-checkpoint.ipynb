{
 "cells": [
  {
   "cell_type": "code",
   "execution_count": 1,
   "id": "991aaef2-051b-4c9d-81e1-6c3b2e0aa243",
   "metadata": {},
   "outputs": [],
   "source": [
    "#"
   ]
  },
  {
   "cell_type": "markdown",
   "id": "e206c5ae-53a6-4f0e-90bd-897186b97ae4",
   "metadata": {},
   "source": [
    "# 1. Tuple\n",
    "- Orderd collection of elements\n",
    "- enclosed in round brackets\n",
    "- Store differnt kind of elements\n",
    "- ONce stored cannot be changed- immutable\n"
   ]
  },
  {
   "cell_type": "code",
   "execution_count": 28,
   "id": "0c4a125d-d794-452e-ba40-0671a604eb1d",
   "metadata": {},
   "outputs": [
    {
     "data": {
      "text/plain": [
       "(1, 'iqra', 2.4, True, False, 2)"
      ]
     },
     "execution_count": 28,
     "metadata": {},
     "output_type": "execute_result"
    }
   ],
   "source": [
    "tup1 = (1, \"iqra\", 2.4, True, False, 2)\n",
    "tup1"
   ]
  },
  {
   "cell_type": "markdown",
   "id": "e9b834a8-d91e-4031-820f-b922df061ce8",
   "metadata": {},
   "source": [
    "#### Indexing"
   ]
  },
  {
   "cell_type": "code",
   "execution_count": 29,
   "id": "c98180fd-05a0-4fd5-8c8a-05c9fd09bed8",
   "metadata": {},
   "outputs": [
    {
     "data": {
      "text/plain": [
       "2"
      ]
     },
     "execution_count": 29,
     "metadata": {},
     "output_type": "execute_result"
    }
   ],
   "source": [
    "tup1[-1]"
   ]
  },
  {
   "cell_type": "code",
   "execution_count": 30,
   "id": "03a6ffc2-1983-4d8c-98e3-6763ef5e2e49",
   "metadata": {},
   "outputs": [
    {
     "data": {
      "text/plain": [
       "'iqra'"
      ]
     },
     "execution_count": 30,
     "metadata": {},
     "output_type": "execute_result"
    }
   ],
   "source": [
    "tup1[1]"
   ]
  },
  {
   "cell_type": "markdown",
   "id": "14bad9ea-169c-4c57-a26b-cf709cb8d3c5",
   "metadata": {},
   "source": [
    "####  The count() method returns the number of times a specified value appears in the tuple.\n",
    "\n"
   ]
  },
  {
   "cell_type": "code",
   "execution_count": 31,
   "id": "cf67be5e-5164-4fbd-bb1c-8fa733911485",
   "metadata": {},
   "outputs": [
    {
     "data": {
      "text/plain": [
       "2"
      ]
     },
     "execution_count": 31,
     "metadata": {},
     "output_type": "execute_result"
    }
   ],
   "source": [
    "tup1.count(1) # True is counted as 1"
   ]
  },
  {
   "cell_type": "code",
   "execution_count": 32,
   "id": "8e441beb-efa7-4b25-bd86-df182256fb4e",
   "metadata": {},
   "outputs": [
    {
     "data": {
      "text/plain": [
       "1"
      ]
     },
     "execution_count": 32,
     "metadata": {},
     "output_type": "execute_result"
    }
   ],
   "source": [
    "tup1.count(0) # False is counted as 0"
   ]
  },
  {
   "cell_type": "markdown",
   "id": "911f9e90-233b-4707-9e47-09e495a66853",
   "metadata": {},
   "source": [
    "## Index\n",
    "- The tuple index() method helps us to find the index or occurrence of an element in a tuple"
   ]
  },
  {
   "cell_type": "code",
   "execution_count": 33,
   "id": "7b6d7e2b-5416-4c55-8dcd-53dfa16482ba",
   "metadata": {},
   "outputs": [
    {
     "data": {
      "text/plain": [
       "1"
      ]
     },
     "execution_count": 33,
     "metadata": {},
     "output_type": "execute_result"
    }
   ],
   "source": [
    "tup1.index(\"iqra\")"
   ]
  },
  {
   "cell_type": "code",
   "execution_count": 26,
   "id": "8f441fe0-7703-4a00-beaf-ee2026d4b0b8",
   "metadata": {},
   "outputs": [
    {
     "data": {
      "text/plain": [
       "2"
      ]
     },
     "execution_count": 26,
     "metadata": {},
     "output_type": "execute_result"
    }
   ],
   "source": [
    "tup1.index(2.4)"
   ]
  },
  {
   "cell_type": "code",
   "execution_count": 34,
   "id": "d4109e83-6fd4-4f7a-9be7-072e66d4c621",
   "metadata": {},
   "outputs": [
    {
     "ename": "ValueError",
     "evalue": "tuple.index(x): x not in tuple",
     "output_type": "error",
     "traceback": [
      "\u001b[0;31m---------------------------------------------------------------------------\u001b[0m",
      "\u001b[0;31mValueError\u001b[0m                                Traceback (most recent call last)",
      "\u001b[0;32m/tmp/ipykernel_2877/456042872.py\u001b[0m in \u001b[0;36m<module>\u001b[0;34m\u001b[0m\n\u001b[0;32m----> 1\u001b[0;31m \u001b[0mtup1\u001b[0m\u001b[0;34m.\u001b[0m\u001b[0mindex\u001b[0m\u001b[0;34m(\u001b[0m\u001b[0;36m4\u001b[0m\u001b[0;34m)\u001b[0m\u001b[0;34m\u001b[0m\u001b[0;34m\u001b[0m\u001b[0m\n\u001b[0m",
      "\u001b[0;31mValueError\u001b[0m: tuple.index(x): x not in tuple"
     ]
    }
   ],
   "source": [
    "tup1.index(4) # error as 4 is not in tuple"
   ]
  },
  {
   "cell_type": "code",
   "execution_count": 35,
   "id": "a4b5017c-f91e-46be-96a0-942df5d50b1b",
   "metadata": {},
   "outputs": [
    {
     "name": "stdout",
     "output_type": "stream",
     "text": [
      "5\n"
     ]
    }
   ],
   "source": [
    "print(tup1.index(2, 3))\n",
    "\n",
    "# This means that the compiler will search the occurrence of element 2 but, after index 3."
   ]
  },
  {
   "cell_type": "code",
   "execution_count": 37,
   "id": "c4cfac7e-1e35-4ff1-aac5-1619a56dcbda",
   "metadata": {},
   "outputs": [
    {
     "name": "stdout",
     "output_type": "stream",
     "text": [
      "2\n"
     ]
    }
   ],
   "source": [
    "print(tup1.index(2.4, 1, 3))\n",
    "# This means that the compiler will search the occurrence of element 2.4 but, between the index 1 and 3.\n"
   ]
  },
  {
   "cell_type": "markdown",
   "id": "a79e1a68-8911-46ae-94c7-bbd8ec60103d",
   "metadata": {},
   "source": [
    "# 2. List\n",
    "- ordered collection of elements\n",
    "- enclosed in square braces/brackets\n",
    "- mutable/changeable\n"
   ]
  },
  {
   "cell_type": "code",
   "execution_count": 48,
   "id": "b9fe02d2-d60a-4380-af9e-1f22b24d7551",
   "metadata": {},
   "outputs": [
    {
     "data": {
      "text/plain": [
       "[1, 2, 3.4, 'mahmood', True, 5, 1.1]"
      ]
     },
     "execution_count": 48,
     "metadata": {},
     "output_type": "execute_result"
    }
   ],
   "source": [
    "list1 = [1,2,3.4,\"mahmood\", True, 5,1.1]\n",
    "list1"
   ]
  },
  {
   "cell_type": "code",
   "execution_count": 96,
   "id": "274fca08-2d53-4714-a980-be2d4295ebd2",
   "metadata": {},
   "outputs": [],
   "source": [
    "list2 = [\"Red\",\"Blue\",\" Green\",\"Black\"]"
   ]
  },
  {
   "cell_type": "code",
   "execution_count": 50,
   "id": "cbdfd858-9e16-4394-8a0b-310bfcec12b9",
   "metadata": {},
   "outputs": [
    {
     "data": {
      "text/plain": [
       "[1, 2, 3.4, 'mahmood', True, 5, 1.1, 'Red', 'Blue', ' Green', 'Black']"
      ]
     },
     "execution_count": 50,
     "metadata": {},
     "output_type": "execute_result"
    }
   ],
   "source": [
    "# Concatenation\n",
    "list1 + list2 "
   ]
  },
  {
   "cell_type": "code",
   "execution_count": 51,
   "id": "4b85f7e7-e7b1-45a4-90ff-511ed57179be",
   "metadata": {},
   "outputs": [
    {
     "data": {
      "text/plain": [
       "[1, 2, 3.4, 'mahmood', True, 5, 1.1, 'orange']"
      ]
     },
     "execution_count": 51,
     "metadata": {},
     "output_type": "execute_result"
    }
   ],
   "source": [
    "list1.append(\"orange\")\n",
    "list1"
   ]
  },
  {
   "cell_type": "code",
   "execution_count": 46,
   "id": "4082c4d2-f464-4297-9bef-4ff304244630",
   "metadata": {},
   "outputs": [],
   "source": [
    "list1.clear()"
   ]
  },
  {
   "cell_type": "code",
   "execution_count": 47,
   "id": "653748da-257f-4f9a-b604-44c0811604a9",
   "metadata": {},
   "outputs": [
    {
     "data": {
      "text/plain": [
       "[]"
      ]
     },
     "execution_count": 47,
     "metadata": {},
     "output_type": "execute_result"
    }
   ],
   "source": [
    "list1"
   ]
  },
  {
   "cell_type": "code",
   "execution_count": 52,
   "id": "6b2c9e78-8b9c-4bd5-8f73-2d77d799d1de",
   "metadata": {},
   "outputs": [
    {
     "data": {
      "text/plain": [
       "[1, 2, 3.4, 'mahmood', True, 5, 1.1, 'orange']"
      ]
     },
     "execution_count": 52,
     "metadata": {},
     "output_type": "execute_result"
    }
   ],
   "source": [
    "list1.copy()"
   ]
  },
  {
   "cell_type": "code",
   "execution_count": 53,
   "id": "1c198143-585a-464c-a1de-2584ed13b0a4",
   "metadata": {},
   "outputs": [
    {
     "data": {
      "text/plain": [
       "2"
      ]
     },
     "execution_count": 53,
     "metadata": {},
     "output_type": "execute_result"
    }
   ],
   "source": [
    "list1.count(1)"
   ]
  },
  {
   "cell_type": "code",
   "execution_count": 56,
   "id": "28ad2a5f-7654-49fa-abb2-7da8e98d76a9",
   "metadata": {},
   "outputs": [
    {
     "data": {
      "text/plain": [
       "2"
      ]
     },
     "execution_count": 56,
     "metadata": {},
     "output_type": "execute_result"
    }
   ],
   "source": [
    "list1.count(True)"
   ]
  },
  {
   "cell_type": "code",
   "execution_count": 59,
   "id": "8e39c689-3f5e-4fbb-9bc7-fa43f3a523a7",
   "metadata": {},
   "outputs": [],
   "source": [
    "list1.extend(list2)"
   ]
  },
  {
   "cell_type": "code",
   "execution_count": 60,
   "id": "8eef8101-f571-44b8-8405-3c757272f554",
   "metadata": {},
   "outputs": [
    {
     "data": {
      "text/plain": [
       "[1,\n",
       " 2,\n",
       " 3.4,\n",
       " 'mahmood',\n",
       " True,\n",
       " 5,\n",
       " 1.1,\n",
       " 'orange',\n",
       " 'Red',\n",
       " 'Blue',\n",
       " ' Green',\n",
       " 'Black']"
      ]
     },
     "execution_count": 60,
     "metadata": {},
     "output_type": "execute_result"
    }
   ],
   "source": [
    "list1"
   ]
  },
  {
   "cell_type": "code",
   "execution_count": 61,
   "id": "e3d005eb-59e4-475c-bda8-1257cc7cae92",
   "metadata": {},
   "outputs": [
    {
     "data": {
      "text/plain": [
       "1"
      ]
     },
     "execution_count": 61,
     "metadata": {},
     "output_type": "execute_result"
    }
   ],
   "source": [
    "list1.index(2)"
   ]
  },
  {
   "cell_type": "code",
   "execution_count": 62,
   "id": "0ed0a5f4-391a-4c6b-bfaa-49a76d69f1be",
   "metadata": {},
   "outputs": [
    {
     "data": {
      "text/plain": [
       "5"
      ]
     },
     "execution_count": 62,
     "metadata": {},
     "output_type": "execute_result"
    }
   ],
   "source": [
    "list1.index(5,2)"
   ]
  },
  {
   "cell_type": "code",
   "execution_count": 65,
   "id": "bb5e59c5-4670-4409-80b7-d87d253e9454",
   "metadata": {},
   "outputs": [
    {
     "data": {
      "text/plain": [
       "8"
      ]
     },
     "execution_count": 65,
     "metadata": {},
     "output_type": "execute_result"
    }
   ],
   "source": [
    "list1.index(\"Red\",2)"
   ]
  },
  {
   "cell_type": "code",
   "execution_count": 66,
   "id": "a1c73ec5-5d2c-49e7-9a56-98e6d434da71",
   "metadata": {},
   "outputs": [
    {
     "data": {
      "text/plain": [
       "8"
      ]
     },
     "execution_count": 66,
     "metadata": {},
     "output_type": "execute_result"
    }
   ],
   "source": [
    "list1.index(\"Red\",2, 9)"
   ]
  },
  {
   "cell_type": "code",
   "execution_count": 67,
   "id": "3a0cdff0-d0b7-4380-844d-092e24918add",
   "metadata": {},
   "outputs": [
    {
     "data": {
      "text/plain": [
       "6"
      ]
     },
     "execution_count": 67,
     "metadata": {},
     "output_type": "execute_result"
    }
   ],
   "source": [
    "list1.index(1.1,2)"
   ]
  },
  {
   "cell_type": "code",
   "execution_count": 69,
   "id": "24ee7c7d-633e-426d-ae90-a55f16d275d9",
   "metadata": {},
   "outputs": [],
   "source": [
    "list1.insert(7,3) # will add 3 at 7 index"
   ]
  },
  {
   "cell_type": "code",
   "execution_count": 70,
   "id": "64647582-e085-4472-9b57-d40f561f3a6f",
   "metadata": {},
   "outputs": [
    {
     "data": {
      "text/plain": [
       "[1,\n",
       " 2,\n",
       " 3.4,\n",
       " 'mahmood',\n",
       " True,\n",
       " 5,\n",
       " 1.1,\n",
       " 3,\n",
       " 'orange',\n",
       " 'Red',\n",
       " 'Blue',\n",
       " ' Green',\n",
       " 'Black']"
      ]
     },
     "execution_count": 70,
     "metadata": {},
     "output_type": "execute_result"
    }
   ],
   "source": [
    "list1"
   ]
  },
  {
   "cell_type": "code",
   "execution_count": 71,
   "id": "cccf8d7d-4a11-45ae-90e4-1941b955cc7b",
   "metadata": {},
   "outputs": [
    {
     "data": {
      "text/plain": [
       "'Black'"
      ]
     },
     "execution_count": 71,
     "metadata": {},
     "output_type": "execute_result"
    }
   ],
   "source": [
    "list1.pop()"
   ]
  },
  {
   "cell_type": "code",
   "execution_count": 72,
   "id": "34974c57-02bf-43dd-974d-40a1643b56fe",
   "metadata": {},
   "outputs": [
    {
     "data": {
      "text/plain": [
       "[1, 2, 3.4, 'mahmood', True, 5, 1.1, 3, 'orange', 'Red', 'Blue', ' Green']"
      ]
     },
     "execution_count": 72,
     "metadata": {},
     "output_type": "execute_result"
    }
   ],
   "source": [
    "list1"
   ]
  },
  {
   "cell_type": "code",
   "execution_count": 75,
   "id": "07306526-547b-455e-a7b4-e858de5bb0cb",
   "metadata": {},
   "outputs": [],
   "source": [
    "list1.remove(\"orange\")"
   ]
  },
  {
   "cell_type": "code",
   "execution_count": 76,
   "id": "88a94845-1283-4957-9285-3b5f1109c6e2",
   "metadata": {},
   "outputs": [
    {
     "data": {
      "text/plain": [
       "[1, 2, 3.4, 'mahmood', True, 5, 1.1, 3, 'Red', 'Blue', ' Green']"
      ]
     },
     "execution_count": 76,
     "metadata": {},
     "output_type": "execute_result"
    }
   ],
   "source": [
    "list1"
   ]
  },
  {
   "cell_type": "code",
   "execution_count": 77,
   "id": "45381949-2192-46b8-8594-e217ad43a7f9",
   "metadata": {},
   "outputs": [],
   "source": [
    "list1.reverse()"
   ]
  },
  {
   "cell_type": "code",
   "execution_count": 78,
   "id": "118abc06-d831-45fe-8cba-5fe6513ec4b4",
   "metadata": {},
   "outputs": [
    {
     "data": {
      "text/plain": [
       "[' Green', 'Blue', 'Red', 3, 1.1, 5, True, 'mahmood', 3.4, 2, 1]"
      ]
     },
     "execution_count": 78,
     "metadata": {},
     "output_type": "execute_result"
    }
   ],
   "source": [
    "list1"
   ]
  },
  {
   "cell_type": "code",
   "execution_count": null,
   "id": "33e49e99-5ab3-465a-b7b5-e7424458d7ad",
   "metadata": {},
   "outputs": [],
   "source": []
  },
  {
   "cell_type": "code",
   "execution_count": 83,
   "id": "dd52930f-04ae-4d69-868b-2c4cc65e43de",
   "metadata": {},
   "outputs": [],
   "source": [
    "list1.reverse()"
   ]
  },
  {
   "cell_type": "code",
   "execution_count": 84,
   "id": "723980a9-9a71-4923-a3d2-99c7e487cd10",
   "metadata": {},
   "outputs": [
    {
     "data": {
      "text/plain": [
       "[1, 2, 3.4, 'mahmood', True, 5, 1.1, 3, 'Red', 'Blue', ' Green']"
      ]
     },
     "execution_count": 84,
     "metadata": {},
     "output_type": "execute_result"
    }
   ],
   "source": [
    "list1"
   ]
  },
  {
   "cell_type": "code",
   "execution_count": 101,
   "id": "6d9d6a4f-b9db-43ae-81b6-a0aefd151391",
   "metadata": {},
   "outputs": [
    {
     "data": {
      "text/plain": [
       "['Red', 'Blue', 'Black', ' Green']"
      ]
     },
     "execution_count": 101,
     "metadata": {},
     "output_type": "execute_result"
    }
   ],
   "source": [
    "list2"
   ]
  },
  {
   "cell_type": "code",
   "execution_count": 102,
   "id": "13be3815-5387-4cd8-aee1-0398105acc40",
   "metadata": {},
   "outputs": [
    {
     "data": {
      "text/plain": [
       "[' Green', 'Black', 'Blue', 'Red']"
      ]
     },
     "execution_count": 102,
     "metadata": {},
     "output_type": "execute_result"
    }
   ],
   "source": [
    "list2.sort()\n",
    "list2"
   ]
  },
  {
   "cell_type": "code",
   "execution_count": 103,
   "id": "0efedc2b-49a1-4dc2-b65a-5c9753fba4e9",
   "metadata": {},
   "outputs": [
    {
     "data": {
      "text/plain": [
       "['Red', 'Blue', 'Black', ' Green']"
      ]
     },
     "execution_count": 103,
     "metadata": {},
     "output_type": "execute_result"
    }
   ],
   "source": [
    "list2.sort(reverse=True)\n",
    "list2"
   ]
  },
  {
   "cell_type": "code",
   "execution_count": 100,
   "id": "502da388-ba2a-4632-8632-5e296f3713c8",
   "metadata": {},
   "outputs": [
    {
     "name": "stdout",
     "output_type": "stream",
     "text": [
      "None\n"
     ]
    }
   ],
   "source": [
    "print(list3)"
   ]
  },
  {
   "cell_type": "code",
   "execution_count": 104,
   "id": "891064ed-68ed-416e-abd6-76c9aa9ba89e",
   "metadata": {},
   "outputs": [
    {
     "data": {
      "text/plain": [
       "[1, 2, 4, 5, 7]"
      ]
     },
     "execution_count": 104,
     "metadata": {},
     "output_type": "execute_result"
    }
   ],
   "source": [
    "l = [2,4,1,7,5]\n",
    "l.sort()\n",
    "l"
   ]
  },
  {
   "cell_type": "code",
   "execution_count": 105,
   "id": "70dd6412-84c7-46f2-ba13-62826c061569",
   "metadata": {},
   "outputs": [
    {
     "data": {
      "text/plain": [
       "[2, 3, 4, 5, 7, 11]"
      ]
     },
     "execution_count": 105,
     "metadata": {},
     "output_type": "execute_result"
    }
   ],
   "source": [
    "l = [3,4,7,11,5,2]\n",
    "sorted(l)"
   ]
  },
  {
   "cell_type": "code",
   "execution_count": null,
   "id": "6f9f7203-eb6d-4aa4-a992-18f4ec2a5592",
   "metadata": {},
   "outputs": [],
   "source": []
  },
  {
   "cell_type": "markdown",
   "id": "3efe1443-d5cc-4318-93bb-ba335e2d6230",
   "metadata": {},
   "source": [
    "# 3. Dictionary\n",
    "- Unorder collection of elements\n",
    "- Store values in key value pairs\n",
    "- Used in curly brackets\n",
    "- mutable "
   ]
  },
  {
   "cell_type": "code",
   "execution_count": 106,
   "id": "9b89abc1-e430-4c1d-a35b-97b88da3de8b",
   "metadata": {},
   "outputs": [
    {
     "data": {
      "text/plain": [
       "{'Samosa': 30, 'Pakora': 20, 'Tikki': 10, 'Nan': 25}"
      ]
     },
     "execution_count": 106,
     "metadata": {},
     "output_type": "execute_result"
    }
   ],
   "source": [
    "dict1 = {\"Samosa\":30, \"Pakora\": 20, \"Tikki\": 10,\"Nan\":25}\n",
    "dict1"
   ]
  },
  {
   "cell_type": "code",
   "execution_count": 108,
   "id": "c96d9afd-1eea-41e2-871f-98d5c10799ed",
   "metadata": {},
   "outputs": [],
   "source": [
    "dict1[2] = 15"
   ]
  },
  {
   "cell_type": "code",
   "execution_count": 109,
   "id": "da1092bd-46b7-4ac2-ab95-57aa4df1a005",
   "metadata": {},
   "outputs": [
    {
     "data": {
      "text/plain": [
       "{'Samosa': 30, 'Pakora': 20, 'Tikki': 10, 'Nan': 25, 2: 15}"
      ]
     },
     "execution_count": 109,
     "metadata": {},
     "output_type": "execute_result"
    }
   ],
   "source": [
    "dict1"
   ]
  },
  {
   "cell_type": "code",
   "execution_count": 110,
   "id": "eb176123-12c3-4d53-ac99-d339b5f228db",
   "metadata": {},
   "outputs": [],
   "source": [
    "dict2 = {\"Mango\":400, \"Apple\":200,\"banana\" : 150}"
   ]
  },
  {
   "cell_type": "code",
   "execution_count": 111,
   "id": "ad232f4a-b59f-4ebf-9a0a-910196078e9f",
   "metadata": {},
   "outputs": [
    {
     "data": {
      "text/plain": [
       "dict"
      ]
     },
     "execution_count": 111,
     "metadata": {},
     "output_type": "execute_result"
    }
   ],
   "source": [
    "type(dict2)"
   ]
  },
  {
   "cell_type": "code",
   "execution_count": 116,
   "id": "7d542f60-4c72-471d-afd3-e84e9a3e21ea",
   "metadata": {},
   "outputs": [
    {
     "data": {
      "text/plain": [
       "{'Mango': None, 'Apple': None, 'banana': None}"
      ]
     },
     "execution_count": 116,
     "metadata": {},
     "output_type": "execute_result"
    }
   ],
   "source": [
    "dict.fromkeys(dict2)"
   ]
  },
  {
   "cell_type": "code",
   "execution_count": 117,
   "id": "1f581e8b-c231-4423-99a0-50456ae84b64",
   "metadata": {},
   "outputs": [
    {
     "data": {
      "text/plain": [
       "10"
      ]
     },
     "execution_count": 117,
     "metadata": {},
     "output_type": "execute_result"
    }
   ],
   "source": [
    "dict1.get(\"Tikki\")"
   ]
  },
  {
   "cell_type": "code",
   "execution_count": 118,
   "id": "e6e9ecc7-718d-4961-a63f-1c7faf1c0a7e",
   "metadata": {},
   "outputs": [],
   "source": [
    "dict1.get(10)"
   ]
  },
  {
   "cell_type": "code",
   "execution_count": 119,
   "id": "e173e1f0-76e1-47d1-9534-c79ff1e52ee1",
   "metadata": {},
   "outputs": [
    {
     "data": {
      "text/plain": [
       "dict_items([('Samosa', 30), ('Pakora', 20), ('Tikki', 10), ('Nan', 25), (2, 15)])"
      ]
     },
     "execution_count": 119,
     "metadata": {},
     "output_type": "execute_result"
    }
   ],
   "source": [
    "dict1.items()"
   ]
  },
  {
   "cell_type": "code",
   "execution_count": 120,
   "id": "233e806a-067c-442d-b896-f2ab4b921846",
   "metadata": {},
   "outputs": [
    {
     "data": {
      "text/plain": [
       "dict_keys(['Samosa', 'Pakora', 'Tikki', 'Nan', 2])"
      ]
     },
     "execution_count": 120,
     "metadata": {},
     "output_type": "execute_result"
    }
   ],
   "source": [
    "dict1.keys()"
   ]
  },
  {
   "cell_type": "code",
   "execution_count": 122,
   "id": "ed259533-0231-48e8-a5fa-813c644aab89",
   "metadata": {},
   "outputs": [
    {
     "data": {
      "text/plain": [
       "10"
      ]
     },
     "execution_count": 122,
     "metadata": {},
     "output_type": "execute_result"
    }
   ],
   "source": [
    "dict1.pop(\"Tikki\")"
   ]
  },
  {
   "cell_type": "code",
   "execution_count": 123,
   "id": "0909cda8-f765-4b43-b307-e3443b9a5964",
   "metadata": {},
   "outputs": [
    {
     "data": {
      "text/plain": [
       "{'Samosa': 30, 'Pakora': 20, 'Nan': 25, 2: 15}"
      ]
     },
     "execution_count": 123,
     "metadata": {},
     "output_type": "execute_result"
    }
   ],
   "source": [
    "dict1"
   ]
  },
  {
   "cell_type": "code",
   "execution_count": 124,
   "id": "24d9b1c9-b9ce-48bd-95c4-16afcecd71de",
   "metadata": {},
   "outputs": [
    {
     "data": {
      "text/plain": [
       "(2, 15)"
      ]
     },
     "execution_count": 124,
     "metadata": {},
     "output_type": "execute_result"
    }
   ],
   "source": [
    "dict1.popitem()"
   ]
  },
  {
   "cell_type": "code",
   "execution_count": 127,
   "id": "5cf9d87b-06e5-4483-935c-aeba1e403039",
   "metadata": {},
   "outputs": [],
   "source": [
    "dict1.update(dict2)"
   ]
  },
  {
   "cell_type": "code",
   "execution_count": 128,
   "id": "6c70bbdd-5e9c-4e69-86ab-447f36a7e23b",
   "metadata": {},
   "outputs": [
    {
     "data": {
      "text/plain": [
       "{'Samosa': 30,\n",
       " 'Pakora': 20,\n",
       " 'Nan': 25,\n",
       " 'Mango': 400,\n",
       " 'Apple': 200,\n",
       " 'banana': 150}"
      ]
     },
     "execution_count": 128,
     "metadata": {},
     "output_type": "execute_result"
    }
   ],
   "source": [
    "dict1"
   ]
  },
  {
   "attachments": {
    "5c8aebe2-a443-47bf-b05f-ccf2c84b169d.png": {
     "image/png": "[encoded data removed]"
    }
   },
   "cell_type": "markdown",
   "id": "8b1ca022-6298-428c-820f-d7c117f939a2",
   "metadata": {},
   "source": [
    " ![image.png](attachment:5c8aebe2-a443-47bf-b05f-ccf2c84b169d.png)"
   ]
  },
  {
   "cell_type": "markdown",
   "id": "2a3444a3-2a8e-49e5-b376-24eb4ac49902",
   "metadata": {},
   "source": [
    "# 4. Set\n",
    "- Unorder Collection of elements\n",
    "- represented in curly brackets\n",
    "- No duplicated are allowed"
   ]
  },
  {
   "cell_type": "code",
   "execution_count": 129,
   "id": "c5aa4b1f-03be-4a43-99d4-f8b62b0be56c",
   "metadata": {},
   "outputs": [],
   "source": [
    "set1 = {1,2,3,6,4,9,7}"
   ]
  },
  {
   "cell_type": "code",
   "execution_count": 130,
   "id": "83c8548a-302c-4e2a-9bd6-63af0180f7cf",
   "metadata": {},
   "outputs": [
    {
     "data": {
      "text/plain": [
       "set"
      ]
     },
     "execution_count": 130,
     "metadata": {},
     "output_type": "execute_result"
    }
   ],
   "source": [
    "type(set1)"
   ]
  },
  {
   "cell_type": "code",
   "execution_count": 133,
   "id": "0a2e501f-316d-4b61-8d2f-2f2c70d1e580",
   "metadata": {},
   "outputs": [],
   "source": [
    "set1.add(12)"
   ]
  },
  {
   "cell_type": "code",
   "execution_count": 134,
   "id": "31e40796-a40d-4c01-b185-da0941ea561a",
   "metadata": {},
   "outputs": [
    {
     "data": {
      "text/plain": [
       "{1, 2, 3, 4, 6, 7, 9, 12}"
      ]
     },
     "execution_count": 134,
     "metadata": {},
     "output_type": "execute_result"
    }
   ],
   "source": [
    "set1"
   ]
  },
  {
   "cell_type": "code",
   "execution_count": 139,
   "id": "3a8af966-750c-45e2-a93e-4437ce4f531e",
   "metadata": {},
   "outputs": [
    {
     "data": {
      "text/plain": [
       "{1, 3, 4, 6, 9, 12}"
      ]
     },
     "execution_count": 139,
     "metadata": {},
     "output_type": "execute_result"
    }
   ],
   "source": [
    "set1.difference({2, 7})"
   ]
  },
  {
   "cell_type": "code",
   "execution_count": 146,
   "id": "e6e0c14b-08cb-4765-a49a-ac2280cef14e",
   "metadata": {},
   "outputs": [],
   "source": [
    "# The difference_update() method removes the items that exist in both sets."
   ]
  },
  {
   "cell_type": "code",
   "execution_count": 144,
   "id": "34795583-8c7a-4c1e-beaa-34eca2dcfebd",
   "metadata": {},
   "outputs": [],
   "source": [
    "set1.difference_update({3})"
   ]
  },
  {
   "cell_type": "code",
   "execution_count": 145,
   "id": "f83e2a9f-e83f-49e6-8c9b-877598dac263",
   "metadata": {},
   "outputs": [
    {
     "data": {
      "text/plain": [
       "{1, 2, 4, 6, 7, 9, 12}"
      ]
     },
     "execution_count": 145,
     "metadata": {},
     "output_type": "execute_result"
    }
   ],
   "source": [
    "set1"
   ]
  },
  {
   "cell_type": "code",
   "execution_count": 148,
   "id": "2fe063e6-353f-434e-a6d6-7e353338ca3c",
   "metadata": {},
   "outputs": [],
   "source": [
    "set1.discard(1)"
   ]
  },
  {
   "cell_type": "code",
   "execution_count": 149,
   "id": "3621adb3-940c-4a9c-9e35-5dad00c0f05d",
   "metadata": {},
   "outputs": [
    {
     "data": {
      "text/plain": [
       "{2, 4, 6, 7, 9, 12}"
      ]
     },
     "execution_count": 149,
     "metadata": {},
     "output_type": "execute_result"
    }
   ],
   "source": [
    "set1"
   ]
  },
  {
   "cell_type": "code",
   "execution_count": 150,
   "id": "1efc659f-0412-4029-8771-12c78d108e0e",
   "metadata": {},
   "outputs": [],
   "source": [
    "set1.discard({2})"
   ]
  },
  {
   "cell_type": "code",
   "execution_count": 151,
   "id": "4bb0d8dc-156e-4e37-bf1f-a4e9c8cd9688",
   "metadata": {},
   "outputs": [
    {
     "data": {
      "text/plain": [
       "{2, 4, 6, 7, 9, 12}"
      ]
     },
     "execution_count": 151,
     "metadata": {},
     "output_type": "execute_result"
    }
   ],
   "source": [
    "set1"
   ]
  },
  {
   "cell_type": "code",
   "execution_count": 155,
   "id": "faf32f8f-57ed-4d74-ab3a-0af7f9711b2b",
   "metadata": {},
   "outputs": [],
   "source": [
    "set1.intersection_update({4})"
   ]
  },
  {
   "cell_type": "code",
   "execution_count": 156,
   "id": "7353768a-6387-4376-9c7c-803dc300e2c8",
   "metadata": {},
   "outputs": [
    {
     "data": {
      "text/plain": [
       "{4}"
      ]
     },
     "execution_count": 156,
     "metadata": {},
     "output_type": "execute_result"
    }
   ],
   "source": [
    "set1"
   ]
  },
  {
   "cell_type": "markdown",
   "id": "61b54d56-9ccd-4812-b540-6ca78cb7e7c0",
   "metadata": {},
   "source": [
    "# Set Methods"
   ]
  },
  {
   "attachments": {
    "53b09d06-a659-49dd-9882-6a29b1e77680.png": {
     "image/png": "[encoded data removed]"
    }
   },
   "cell_type": "markdown",
   "id": "88814dab-9343-411d-b573-d3ac8be933be",
   "metadata": {},
   "source": [
    "![image.png](attachment:53b09d06-a659-49dd-9882-6a29b1e77680.png)"
   ]
  },
  {
   "cell_type": "code",
   "execution_count": null,
   "id": "0f5c6115-4365-492f-af33-107bfb8583ec",
   "metadata": {},
   "outputs": [],
   "source": []
  }
 ],
 "metadata": {
  "environment": {
   "kernel": "python3",
   "name": "common-cpu.m94",
   "type": "gcloud",
   "uri": "gcr.io/deeplearning-platform-release/base-cpu:m94"
  },
  "kernelspec": {
   "display_name": "Python 3",
   "language": "python",
   "name": "python3"
  },
  "language_info": {
   "codemirror_mode": {
    "name": "ipython",
    "version": 3
   },
   "file_extension": ".py",
   "mimetype": "text/x-python",
   "name": "python",
   "nbconvert_exporter": "python",
   "pygments_lexer": "ipython3",
   "version": "3.7.12"
  }
 },
 "nbformat": 4,
 "nbformat_minor": 5
}
