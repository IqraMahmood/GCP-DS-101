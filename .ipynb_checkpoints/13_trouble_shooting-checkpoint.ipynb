{
 "cells": [
  {
   "cell_type": "code",
   "execution_count": null,
   "id": "ea7c123f-e328-47b1-9541-6b90dff639a9",
   "metadata": {},
   "outputs": [],
   "source": [
    "#Syntax error\n",
    "print(\"We are learning python)"
   ]
  },
  {
   "cell_type": "code",
   "execution_count": 1,
   "id": "17c135a4-8a3a-455e-8b96-45e5bcc834f9",
   "metadata": {},
   "outputs": [],
   "source": [
    "# Run time error"
   ]
  },
  {
   "cell_type": "code",
   "execution_count": null,
   "id": "276aa0de-a631-497b-b1c6-fab57800e6e0",
   "metadata": {},
   "outputs": [],
   "source": [
    "print(25/0)"
   ]
  },
  {
   "cell_type": "code",
   "execution_count": null,
   "id": "b8efa567-e064-48aa-8ff1-c350e05ff646",
   "metadata": {},
   "outputs": [],
   "source": [
    "# \n",
    "- difficult to identify"
   ]
  },
  {
   "cell_type": "code",
   "execution_count": null,
   "id": "3a43f17a-2943-4d1e-a1df-c29caa91eb36",
   "metadata": {},
   "outputs": [],
   "source": [
    "name = \"iqra\"\n",
    "print(\"Hello name\")"
   ]
  },
  {
   "cell_type": "code",
   "execution_count": null,
   "id": "94d97d88-c3b1-4b06-9547-05ca6e94e1df",
   "metadata": {},
   "outputs": [],
   "source": [
    "# Troubleshooting ids easy\n"
   ]
  }
 ],
 "metadata": {
  "environment": {
   "kernel": "python3",
   "name": "common-cpu.m94",
   "type": "gcloud",
   "uri": "gcr.io/deeplearning-platform-release/base-cpu:m94"
  },
  "kernelspec": {
   "display_name": "Python 3",
   "language": "python",
   "name": "python3"
  },
  "language_info": {
   "codemirror_mode": {
    "name": "ipython",
    "version": 3
   },
   "file_extension": ".py",
   "mimetype": "text/x-python",
   "name": "python",
   "nbconvert_exporter": "python",
   "pygments_lexer": "ipython3",
   "version": "3.7.12"
  }
 },
 "nbformat": 4,
 "nbformat_minor": 5
}
