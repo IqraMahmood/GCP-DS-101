{
 "cells": [
  {
   "cell_type": "code",
   "execution_count": null,
   "id": "c2da06d9-ff66-4c02-834d-f055209ee925",
   "metadata": {},
   "outputs": [],
   "source": []
  },
  {
   "cell_type": "code",
   "execution_count": 1,
   "id": "e84e92d4-290f-42a6-a36c-88a1248398ab",
   "metadata": {},
   "outputs": [
    {
     "name": "stdout",
     "output_type": "stream",
     "text": [
      "0\n",
      "1\n",
      "2\n",
      "3\n",
      "4\n"
     ]
    }
   ],
   "source": [
    "x = 0\n",
    "while(x<5):\n",
    "    print(x)\n",
    "    x = x+ 1\n",
    "     \n",
    "    "
   ]
  },
  {
   "cell_type": "code",
   "execution_count": 2,
   "id": "fd59d5cb-b560-4bf3-b24e-be1718644e25",
   "metadata": {},
   "outputs": [],
   "source": [
    "# or loop"
   ]
  },
  {
   "cell_type": "code",
   "execution_count": 3,
   "id": "2b15e7c7-7a4e-44f9-9165-f311035a88c8",
   "metadata": {},
   "outputs": [
    {
     "name": "stdout",
     "output_type": "stream",
     "text": [
      "5\n",
      "6\n",
      "7\n",
      "8\n",
      "9\n"
     ]
    }
   ],
   "source": [
    "for i in range(5,10):\n",
    "    print(i)"
   ]
  },
  {
   "cell_type": "code",
   "execution_count": 4,
   "id": "4081a7a4-a72f-4737-ac52-532ae7ebe1ab",
   "metadata": {},
   "outputs": [
    {
     "name": "stdout",
     "output_type": "stream",
     "text": [
      "Mon\n",
      "Tue\n",
      "Wed\n",
      "Thrus\n",
      "Fri\n",
      "Sat\n",
      "Sun\n"
     ]
    }
   ],
   "source": [
    "days =[\"Mon\", \"Tue\" , \"Wed\", \"Thrus\", \"Fri\",\"Sat\" ,\"Sun\"]\n",
    "for i in days:\n",
    "    print(i)"
   ]
  },
  {
   "cell_type": "code",
   "execution_count": 5,
   "id": "3df0cc6c-a384-4b81-9a68-2f1c35b4b683",
   "metadata": {},
   "outputs": [
    {
     "name": "stdout",
     "output_type": "stream",
     "text": [
      "Mon\n",
      "Tue\n",
      "Wed\n",
      "Thrus\n",
      "Sat\n",
      "Sun\n"
     ]
    }
   ],
   "source": [
    "days =[\"Mon\", \"Tue\" , \"Wed\", \"Thrus\", \"Fri\",\"Sat\" ,\"Sun\"]\n",
    "for i in days:\n",
    "    if(i==\"Fri\"): continue\n",
    "    print(i)"
   ]
  },
  {
   "cell_type": "code",
   "execution_count": null,
   "id": "7143e8bc-f9b7-4ed2-b39f-da2706709a75",
   "metadata": {},
   "outputs": [],
   "source": []
  }
 ],
 "metadata": {
  "environment": {
   "kernel": "python3",
   "name": "common-cpu.m94",
   "type": "gcloud",
   "uri": "gcr.io/deeplearning-platform-release/base-cpu:m94"
  },
  "kernelspec": {
   "display_name": "Python 3",
   "language": "python",
   "name": "python3"
  },
  "language_info": {
   "codemirror_mode": {
    "name": "ipython",
    "version": 3
   },
   "file_extension": ".py",
   "mimetype": "text/x-python",
   "name": "python",
   "nbconvert_exporter": "python",
   "pygments_lexer": "ipython3",
   "version": "3.7.12"
  }
 },
 "nbformat": 4,
 "nbformat_minor": 5
}
