{
 "cells": [
  {
   "cell_type": "markdown",
   "id": "9283946e-4e11-40f2-921e-de9bcc8c74b3",
   "metadata": {},
   "source": [
    "# Addition"
   ]
  },
  {
   "cell_type": "code",
   "execution_count": 13,
   "id": "61cd73e9-8103-486c-9f2c-307889c55319",
   "metadata": {},
   "outputs": [
    {
     "data": {
      "text/plain": [
       "4"
      ]
     },
     "execution_count": 13,
     "metadata": {},
     "output_type": "execute_result"
    }
   ],
   "source": [
    "2+2"
   ]
  },
  {
   "cell_type": "markdown",
   "id": "2a2b702e-8815-474c-875f-d43303029af3",
   "metadata": {},
   "source": [
    "# Substraction"
   ]
  },
  {
   "cell_type": "code",
   "execution_count": 14,
   "id": "0dc03c35-5992-4d41-8fb3-6c08e179d54f",
   "metadata": {},
   "outputs": [
    {
     "data": {
      "text/plain": [
       "0"
      ]
     },
     "execution_count": 14,
     "metadata": {},
     "output_type": "execute_result"
    }
   ],
   "source": [
    "2-2"
   ]
  },
  {
   "cell_type": "markdown",
   "id": "7ebae529-f4e6-4975-b410-505d5838658f",
   "metadata": {},
   "source": [
    "# Multiplication"
   ]
  },
  {
   "cell_type": "code",
   "execution_count": 15,
   "id": "59ca7e90-c05c-42e4-856d-5ea4f3b7ae4a",
   "metadata": {},
   "outputs": [
    {
     "data": {
      "text/plain": [
       "4"
      ]
     },
     "execution_count": 15,
     "metadata": {},
     "output_type": "execute_result"
    }
   ],
   "source": [
    "2*2"
   ]
  },
  {
   "cell_type": "markdown",
   "id": "f10891a7-e1a3-4177-9028-3fec6cb968cf",
   "metadata": {},
   "source": [
    "# Exponent Or Power\n",
    "### dont work in terminal\n",
    "A python shell is different from a python terminal. Python code is run by the terminal and some other shell-related stuff is done by the terminator. This means we can perform every single code in python shell/interpreter but not in python terminator. \n"
   ]
  },
  {
   "cell_type": "code",
   "execution_count": 16,
   "id": "6733f258-9d38-4c2d-830d-f1d64f8cc238",
   "metadata": {},
   "outputs": [
    {
     "data": {
      "text/plain": [
       "8"
      ]
     },
     "execution_count": 16,
     "metadata": {},
     "output_type": "execute_result"
    }
   ],
   "source": [
    "2**3"
   ]
  },
  {
   "cell_type": "markdown",
   "id": "ddda44e7-2723-47d0-b46d-6cb06632b3e1",
   "metadata": {},
   "source": [
    "# Divide\n"
   ]
  },
  {
   "cell_type": "code",
   "execution_count": 17,
   "id": "aa6fd476-2c4a-4e37-a881-3028b31da446",
   "metadata": {},
   "outputs": [
    {
     "data": {
      "text/plain": [
       "4.5"
      ]
     },
     "execution_count": 17,
     "metadata": {},
     "output_type": "execute_result"
    }
   ],
   "source": [
    "9/2\n"
   ]
  },
  {
   "cell_type": "code",
   "execution_count": 18,
   "id": "8c784763-9f31-4a56-ab5a-b991bd768017",
   "metadata": {},
   "outputs": [
    {
     "data": {
      "text/plain": [
       "4"
      ]
     },
     "execution_count": 18,
     "metadata": {},
     "output_type": "execute_result"
    }
   ],
   "source": [
    "9//2 # Dont give in points, give in whole number"
   ]
  },
  {
   "cell_type": "markdown",
   "id": "a8dcf3c7-e5d2-4aae-9022-78930413ce3c",
   "metadata": {},
   "source": [
    "# Remainder"
   ]
  },
  {
   "cell_type": "code",
   "execution_count": 21,
   "id": "1442b637-d897-491d-a8de-7531c9d93163",
   "metadata": {},
   "outputs": [
    {
     "data": {
      "text/plain": [
       "1"
      ]
     },
     "execution_count": 21,
     "metadata": {},
     "output_type": "execute_result"
    }
   ],
   "source": [
    "\n",
    "9%2"
   ]
  },
  {
   "cell_type": "markdown",
   "id": "62b04b0f-2caf-45c4-8cf5-d46b13aa2383",
   "metadata": {},
   "source": [
    "# PEMDAS\n",
    "### Parenthesis exponent multiply divide addition Subtraction\n",
    "### (left to right)"
   ]
  },
  {
   "cell_type": "code",
   "execution_count": 22,
   "id": "c9644146-f118-4d1d-a626-458194e3b12a",
   "metadata": {},
   "outputs": [
    {
     "name": "stdout",
     "output_type": "stream",
     "text": [
      "6.5\n"
     ]
    }
   ],
   "source": [
    "print(3**2/2*3/3+6-4)"
   ]
  },
  {
   "cell_type": "code",
   "execution_count": null,
   "id": "64be6604-008c-4797-ac1b-fddd923e3b3f",
   "metadata": {},
   "outputs": [],
   "source": []
  }
 ],
 "metadata": {
  "environment": {
   "kernel": "python3",
   "name": "common-cpu.m94",
   "type": "gcloud",
   "uri": "gcr.io/deeplearning-platform-release/base-cpu:m94"
  },
  "kernelspec": {
   "display_name": "Python 3",
   "language": "python",
   "name": "python3"
  },
  "language_info": {
   "codemirror_mode": {
    "name": "ipython",
    "version": 3
   },
   "file_extension": ".py",
   "mimetype": "text/x-python",
   "name": "python",
   "nbconvert_exporter": "python",
   "pygments_lexer": "ipython3",
   "version": "3.7.12"
  }
 },
 "nbformat": 4,
 "nbformat_minor": 5
}
