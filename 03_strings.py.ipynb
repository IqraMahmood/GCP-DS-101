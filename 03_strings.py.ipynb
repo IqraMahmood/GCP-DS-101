{
 "cells": [
  {
   "cell_type": "code",
   "execution_count": null,
   "id": "a47be565-8479-4090-8a1f-d2bc3f7e3ee5",
   "metadata": {},
   "outputs": [],
   "source": []
  },
  {
   "cell_type": "code",
   "execution_count": 1,
   "id": "3e68b090-cbcf-4cbb-8aa5-ec7d84e0338e",
   "metadata": {},
   "outputs": [
    {
     "name": "stdout",
     "output_type": "stream",
     "text": [
      "Hello World\n"
     ]
    }
   ],
   "source": [
    "print(\"Hello World\")"
   ]
  },
  {
   "cell_type": "code",
   "execution_count": 2,
   "id": "b260809b-afee-435f-a9d9-bf64fc586883",
   "metadata": {},
   "outputs": [
    {
     "name": "stdout",
     "output_type": "stream",
     "text": [
      "We are learning python with ammar\n"
     ]
    }
   ],
   "source": [
    "print('We are learning python with ammar')"
   ]
  },
  {
   "cell_type": "code",
   "execution_count": 3,
   "id": "c1ed3fae-7049-4f86-87ef-b64bb98cc2ba",
   "metadata": {},
   "outputs": [
    {
     "name": "stdout",
     "output_type": "stream",
     "text": [
      "Test for double quote\n"
     ]
    }
   ],
   "source": [
    "print(\"Test for double quote\")"
   ]
  },
  {
   "cell_type": "code",
   "execution_count": 4,
   "id": "4b3ab1ac-6a67-4739-9c36-ab8382080d78",
   "metadata": {},
   "outputs": [
    {
     "name": "stdout",
     "output_type": "stream",
     "text": [
      "Test For Single Quote\n"
     ]
    }
   ],
   "source": [
    "print('Test For Single Quote')"
   ]
  },
  {
   "cell_type": "code",
   "execution_count": 6,
   "id": "45ab5e1d-0fcf-448c-a810-73c5a08f6f3f",
   "metadata": {},
   "outputs": [
    {
     "name": "stdout",
     "output_type": "stream",
     "text": [
      "Test For Triple Quote\n"
     ]
    }
   ],
   "source": [
    "print('''Test For Triple Quote''')"
   ]
  },
  {
   "cell_type": "code",
   "execution_count": 9,
   "id": "ac4b43bc-7e1f-453a-ae8a-b4f8602ef764",
   "metadata": {},
   "outputs": [
    {
     "name": "stdout",
     "output_type": "stream",
     "text": [
      "What's Up\n"
     ]
    }
   ],
   "source": [
    "#print('What's Up') // Give error\n",
    "print(\"What's Up\")"
   ]
  },
  {
   "cell_type": "code",
   "execution_count": null,
   "id": "1e29963b-9f48-49b0-880b-56379bb2061b",
   "metadata": {},
   "outputs": [],
   "source": []
  }
 ],
 "metadata": {
  "environment": {
   "kernel": "python3",
   "name": "common-cpu.m94",
   "type": "gcloud",
   "uri": "gcr.io/deeplearning-platform-release/base-cpu:m94"
  },
  "kernelspec": {
   "display_name": "Python 3",
   "language": "python",
   "name": "python3"
  },
  "language_info": {
   "codemirror_mode": {
    "name": "ipython",
    "version": 3
   },
   "file_extension": ".py",
   "mimetype": "text/x-python",
   "name": "python",
   "nbconvert_exporter": "python",
   "pygments_lexer": "ipython3",
   "version": "3.7.12"
  }
 },
 "nbformat": 4,
 "nbformat_minor": 5
}
