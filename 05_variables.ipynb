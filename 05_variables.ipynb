{
 "cells": [
  {
   "cell_type": "markdown",
   "id": "c4532d04-a42c-451a-8b2a-eaa34014578b",
   "metadata": {},
   "source": [
    "# Variables"
   ]
  },
  {
   "cell_type": "code",
   "execution_count": 16,
   "id": "bfffb7ad-d7f9-4443-8a6d-6b7cf0ad74d0",
   "metadata": {},
   "outputs": [],
   "source": [
    "x = 2 + 3  # Int Variable"
   ]
  },
  {
   "cell_type": "code",
   "execution_count": 17,
   "id": "8ac7ed41-183a-438e-b3c7-c5cbe8e1b42a",
   "metadata": {},
   "outputs": [
    {
     "name": "stdout",
     "output_type": "stream",
     "text": [
      "5\n"
     ]
    }
   ],
   "source": [
    "print(x)"
   ]
  },
  {
   "cell_type": "code",
   "execution_count": 18,
   "id": "218c032c-dfce-40ad-aa30-4b8762c5adf6",
   "metadata": {},
   "outputs": [],
   "source": [
    "y = \"We are learning python \""
   ]
  },
  {
   "cell_type": "code",
   "execution_count": 19,
   "id": "6ce6bcff-4d83-4371-8388-bd5647d3dd45",
   "metadata": {},
   "outputs": [
    {
     "name": "stdout",
     "output_type": "stream",
     "text": [
      "We are learning python \n"
     ]
    }
   ],
   "source": [
    "print(y) # String Variable"
   ]
  },
  {
   "cell_type": "code",
   "execution_count": 20,
   "id": "8d282bd1-c4de-455a-a144-6159d64c676e",
   "metadata": {},
   "outputs": [],
   "source": [
    "x = x + 10"
   ]
  },
  {
   "cell_type": "markdown",
   "id": "694cfc9a-1b98-48c7-91ab-9e563ef216c9",
   "metadata": {},
   "source": [
    "# Types Of variable"
   ]
  },
  {
   "cell_type": "code",
   "execution_count": 21,
   "id": "225df8b8-f30d-45c0-973b-881fc2fb2fd8",
   "metadata": {},
   "outputs": [
    {
     "data": {
      "text/plain": [
       "int"
      ]
     },
     "execution_count": 21,
     "metadata": {},
     "output_type": "execute_result"
    }
   ],
   "source": [
    "type(x)"
   ]
  },
  {
   "cell_type": "code",
   "execution_count": 22,
   "id": "43596083-9257-4924-a24d-31800649d982",
   "metadata": {},
   "outputs": [
    {
     "name": "stdout",
     "output_type": "stream",
     "text": [
      "<class 'int'>\n"
     ]
    }
   ],
   "source": [
    "print(type(x))"
   ]
  },
  {
   "cell_type": "markdown",
   "id": "a1e3d6db-98f0-4451-a96a-0703852ed0cc",
   "metadata": {},
   "source": [
    "# Rules to assign Variable\n",
    "### 1. should contain number, letter and underscore\n",
    "### 2. Never Start with number\n",
    "### 3. Spaces are not allowed\n",
    "### 4. Do nor use functional keyword like mean, median etc\n",
    "### 5. Short and Descriptive\n",
    "### 6. Case sensitvity (Lower letters)\n"
   ]
  },
  {
   "cell_type": "code",
   "execution_count": 23,
   "id": "9bc5b617-8e47-4a34-a445-60d890928b47",
   "metadata": {},
   "outputs": [
    {
     "name": "stdout",
     "output_type": "stream",
     "text": [
      "('Mangoes', 'Oranges')\n"
     ]
    }
   ],
   "source": [
    "fruit_basket = \"Mangoes\" , \"Oranges\" \n",
    "print(fruit_basket)\n"
   ]
  },
  {
   "cell_type": "code",
   "execution_count": 24,
   "id": "5d4974fd-1796-49da-af14-3f8237f60622",
   "metadata": {},
   "outputs": [
    {
     "data": {
      "text/plain": [
       "tuple"
      ]
     },
     "execution_count": 24,
     "metadata": {},
     "output_type": "execute_result"
    }
   ],
   "source": [
    "type(fruit_basket)"
   ]
  },
  {
   "cell_type": "code",
   "execution_count": 25,
   "id": "6b20e8ee-ecab-41f5-ae91-af4e40d69bec",
   "metadata": {},
   "outputs": [],
   "source": [
    "fruit_basket = \"Mangoes, Oranges\" "
   ]
  },
  {
   "cell_type": "code",
   "execution_count": 26,
   "id": "8a298b63-95d4-4025-8f23-327c900223b1",
   "metadata": {},
   "outputs": [
    {
     "data": {
      "text/plain": [
       "str"
      ]
     },
     "execution_count": 26,
     "metadata": {},
     "output_type": "execute_result"
    }
   ],
   "source": [
    "type(fruit_basket)"
   ]
  },
  {
   "cell_type": "code",
   "execution_count": null,
   "id": "42e56a97-a79d-47fd-bad6-3d98e634a439",
   "metadata": {},
   "outputs": [],
   "source": []
  },
  {
   "cell_type": "code",
   "execution_count": null,
   "id": "49a87cd0-0e55-43f6-beb8-00dc3d9ceb18",
   "metadata": {},
   "outputs": [],
   "source": []
  }
 ],
 "metadata": {
  "environment": {
   "kernel": "python3",
   "name": "common-cpu.m94",
   "type": "gcloud",
   "uri": "gcr.io/deeplearning-platform-release/base-cpu:m94"
  },
  "kernelspec": {
   "display_name": "Python 3",
   "language": "python",
   "name": "python3"
  },
  "language_info": {
   "codemirror_mode": {
    "name": "ipython",
    "version": 3
   },
   "file_extension": ".py",
   "mimetype": "text/x-python",
   "name": "python",
   "nbconvert_exporter": "python",
   "pygments_lexer": "ipython3",
   "version": "3.7.12"
  }
 },
 "nbformat": 4,
 "nbformat_minor": 5
}
